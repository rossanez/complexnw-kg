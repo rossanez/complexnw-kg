{
  "cells": [
    {
      "cell_type": "markdown",
      "metadata": {
        "id": "6alM0Vh30lvQ"
      },
      "source": [
        "## Comparing a simple KG to real-world complex networks\n",
        "\n",
        "Using a simple example KG generated from a small text using KGen"
      ]
    },
    {
      "cell_type": "markdown",
      "metadata": {
        "id": "W83VPsxi0lvR"
      },
      "source": [
        "# Environment Setup\n",
        "\n",
        "Install & imports"
      ]
    },
    {
      "cell_type": "code",
      "execution_count": 1,
      "metadata": {
        "colab": {
          "base_uri": "https://localhost:8080/"
        },
        "id": "676y-KfG0lvS",
        "outputId": "4de179ff-964e-4190-be6d-df8d785518df"
      },
      "outputs": [
        {
          "output_type": "stream",
          "name": "stdout",
          "text": [
            "\u001b[?25l     \u001b[90m━━━━━━━━━━━━━━━━━━━━━━━━━━━━━━━━━━━━━━━━\u001b[0m \u001b[32m0.0/531.9 kB\u001b[0m \u001b[31m?\u001b[0m eta \u001b[36m-:--:--\u001b[0m\r\u001b[2K     \u001b[91m━━━━━━━━━━━━━━━━━\u001b[0m\u001b[91m╸\u001b[0m\u001b[90m━━━━━━━━━━━━━━━━━━━━━━\u001b[0m \u001b[32m235.5/531.9 kB\u001b[0m \u001b[31m6.9 MB/s\u001b[0m eta \u001b[36m0:00:01\u001b[0m\r\u001b[2K     \u001b[90m━━━━━━━━━━━━━━━━━━━━━━━━━━━━━━━━━━━━━━━━\u001b[0m \u001b[32m531.9/531.9 kB\u001b[0m \u001b[31m7.6 MB/s\u001b[0m eta \u001b[36m0:00:00\u001b[0m\n",
            "\u001b[?25h\u001b[?25l     \u001b[90m━━━━━━━━━━━━━━━━━━━━━━━━━━━━━━━━━━━━━━━━\u001b[0m \u001b[32m0.0/41.7 kB\u001b[0m \u001b[31m?\u001b[0m eta \u001b[36m-:--:--\u001b[0m\r\u001b[2K     \u001b[90m━━━━━━━━━━━━━━━━━━━━━━━━━━━━━━━━━━━━━━━━\u001b[0m \u001b[32m41.7/41.7 kB\u001b[0m \u001b[31m3.8 MB/s\u001b[0m eta \u001b[36m0:00:00\u001b[0m\n",
            "\u001b[?25hRequirement already satisfied: rdflib in /usr/local/lib/python3.10/dist-packages (7.0.0)\n",
            "Requirement already satisfied: networkx in /usr/local/lib/python3.10/dist-packages (3.2.1)\n",
            "Requirement already satisfied: matplotlib in /usr/local/lib/python3.10/dist-packages (3.7.1)\n",
            "Requirement already satisfied: isodate<0.7.0,>=0.6.0 in /usr/local/lib/python3.10/dist-packages (from rdflib) (0.6.1)\n",
            "Requirement already satisfied: pyparsing<4,>=2.1.0 in /usr/local/lib/python3.10/dist-packages (from rdflib) (3.1.1)\n",
            "Requirement already satisfied: contourpy>=1.0.1 in /usr/local/lib/python3.10/dist-packages (from matplotlib) (1.2.0)\n",
            "Requirement already satisfied: cycler>=0.10 in /usr/local/lib/python3.10/dist-packages (from matplotlib) (0.12.1)\n",
            "Requirement already satisfied: fonttools>=4.22.0 in /usr/local/lib/python3.10/dist-packages (from matplotlib) (4.47.2)\n",
            "Requirement already satisfied: kiwisolver>=1.0.1 in /usr/local/lib/python3.10/dist-packages (from matplotlib) (1.4.5)\n",
            "Requirement already satisfied: numpy>=1.20 in /usr/local/lib/python3.10/dist-packages (from matplotlib) (1.23.5)\n",
            "Requirement already satisfied: packaging>=20.0 in /usr/local/lib/python3.10/dist-packages (from matplotlib) (23.2)\n",
            "Requirement already satisfied: pillow>=6.2.0 in /usr/local/lib/python3.10/dist-packages (from matplotlib) (9.4.0)\n",
            "Requirement already satisfied: python-dateutil>=2.7 in /usr/local/lib/python3.10/dist-packages (from matplotlib) (2.8.2)\n",
            "Requirement already satisfied: six in /usr/local/lib/python3.10/dist-packages (from isodate<0.7.0,>=0.6.0->rdflib) (1.16.0)\n"
          ]
        }
      ],
      "source": [
        "# Install required packages\n",
        "import sys\n",
        "!pip install -q rdflib networkx matplotlib\n",
        "!{sys.executable} -m pip install rdflib networkx matplotlib --user\n",
        "\n",
        "# Imports\n",
        "from rdflib import Graph as RDFGraph\n",
        "from rdflib.extras.external_graph_libs import rdflib_to_networkx_multidigraph\n",
        "import networkx as nx\n",
        "from networkx import Graph as NXGraph\n",
        "import matplotlib.pyplot as plt\n",
        "import statistics\n",
        "import collections"
      ]
    },
    {
      "cell_type": "markdown",
      "metadata": {
        "id": "M3XD_TA5I7Zy"
      },
      "source": [
        "Auxiliary functions"
      ]
    },
    {
      "cell_type": "code",
      "execution_count": 2,
      "metadata": {
        "id": "aTT2CJ6KrEEQ"
      },
      "outputs": [],
      "source": [
        "def mean(numbers):\n",
        "    return float(sum(numbers)) / max(len(numbers), 1)\n",
        "\n",
        "def histogram(l):\n",
        "    degree_sequence = sorted([d for n, d in list(l.items())], reverse=True)\n",
        "    degreeCount = collections.Counter(degree_sequence)\n",
        "    deg, cnt = zip(*degreeCount.items())\n",
        "    print(deg, cnt)\n",
        "\n",
        "    fig, ax = plt.subplots()\n",
        "    plt.bar(deg, cnt, width=0.80, color='b')\n",
        "\n",
        "    plt.title(\"Histogram\")\n",
        "    plt.ylabel(\"Count\")\n",
        "    plt.xlabel(\"Value\")\n",
        "    ax.set_xticks([d + 0.4 for d in deg])\n",
        "    ax.set_xticklabels(deg)\n",
        "\n",
        "    plt.show()\n",
        "\n",
        "def degree_histogram_directed(G, in_degree=False, out_degree=False):\n",
        "    \"\"\"Return a list of the frequency of each degree value.\n",
        "\n",
        "    Parameters\n",
        "    ----------\n",
        "    G : Networkx graph\n",
        "       A graph\n",
        "    in_degree : bool\n",
        "    out_degree : bool\n",
        "\n",
        "    Returns\n",
        "    -------\n",
        "    hist : list\n",
        "       A list of frequencies of degrees.\n",
        "       The degree values are the index in the list.\n",
        "\n",
        "    Notes\n",
        "    -----\n",
        "    Note: the bins are width one, hence len(list) can be large\n",
        "    (Order(number_of_edges))\n",
        "\n",
        "    Ref.: https://stackoverflow.com/a/62662992\n",
        "    \"\"\"\n",
        "    nodes = G.nodes()\n",
        "    if in_degree:\n",
        "        in_degree = dict(G.in_degree())\n",
        "        degseq=[in_degree.get(k,0) for k in nodes]\n",
        "    elif out_degree:\n",
        "        out_degree = dict(G.out_degree())\n",
        "        degseq=[out_degree.get(k,0) for k in nodes]\n",
        "    else:\n",
        "        degseq=[v for k, v in G.degree()]\n",
        "    dmax=max(degseq)+1\n",
        "    freq= [ 0 for d in range(dmax) ]\n",
        "    for d in degseq:\n",
        "        freq[d] += 1\n",
        "    return freq"
      ]
    },
    {
      "cell_type": "markdown",
      "metadata": {
        "id": "2EthklbT0lvW"
      },
      "source": [
        "# Loading our example KG, generated (by [KGen](https://github.com/rossanez/KGen)) from the following unstructured text:\n",
        "```\n",
        "Knowledge Graphs belong to the field of Semantic Web. They may be linked to computational ontologies.\n",
        "Temporal Knowledge Graphs represent the evolution of knowledge.\n",
        "```\n",
        "The KG has links to concepts from the [CSO](https://cso.kmi.open.ac.uk) ontology."
      ]
    },
    {
      "cell_type": "code",
      "execution_count": 3,
      "metadata": {
        "colab": {
          "base_uri": "https://localhost:8080/"
        },
        "id": "MiAG2D370lvW",
        "outputId": "6eea47ee-2efe-487b-b228-f5f5da2da302"
      },
      "outputs": [
        {
          "output_type": "stream",
          "name": "stdout",
          "text": [
            "rdflib Graph loaded successfully with 75 triples\n"
          ]
        }
      ],
      "source": [
        "raw_kg = RDFGraph()\n",
        "raw_kg.parse(data=\"\"\"\n",
        "@prefix\trdfs:\t<http://www.w3.org/2000/01/rdf-schema#>\t.\n",
        "@prefix\tlocal:\t<http://local/local.owl#>\t.\n",
        "@prefix\tcso:\t<https://cso.kmi.open.ac.uk/topics/>\t.\n",
        "@prefix\trdf:\t<http://www.w3.org/1999/02/22-rdf-syntax-ns#>\t.\n",
        "@prefix\towl:\t<http://www.w3.org/2002/07/owl#>\t.\n",
        "\n",
        "#### Statements ####\n",
        "\n",
        "local:s2\ta\trdf:Statement\t;\n",
        "\trdf:subject\tlocal:temporal_knowledge_graph\t;\n",
        "\trdf:predicate\tlocal:represent\t;\n",
        "\trdf:object\tlocal:evolution_of_knowledge\t;\n",
        "\trdfs:label\t\"temporal knowledge graphs represent the evolution of knowledge\"\t.\n",
        "\n",
        "local:s1\ta\trdf:Statement\t;\n",
        "\trdf:subject\tlocal:knowledge_graph\t;\n",
        "\trdf:predicate\tlocal:link\t;\n",
        "\trdf:object\tlocal:computational_ontology\t;\n",
        "\tlocal:AM-MOD\tlocal:may\t;\n",
        "\trdfs:label\t\"knowledge graphs may be linked to computational ontologies\"\t.\n",
        "\n",
        "local:s0\ta\trdf:Statement\t;\n",
        "\trdf:subject\tlocal:knowledge_graph\t;\n",
        "\trdf:predicate\tlocal:belong\t;\n",
        "\trdf:object\tlocal:field_of_semantic_web\t;\n",
        "\trdfs:label\t\"knowledge graphs belong to the field of semantic web\"\t.\n",
        "\n",
        "\n",
        "#### Classes ####\n",
        "\n",
        "local:temporal_knowledge_graph\ta\trdf:Class\t;\n",
        "\trdfs:label\t\"temporal knowledge graph\"\t.\n",
        "\n",
        "local:temporal_knowledge\ta\trdf:Class\t;\n",
        "\trdfs:label\t\"temporal knowledge\"\t.\n",
        "\n",
        "local:knowledge\ta\trdf:Class\t;\n",
        "\trdfs:label\t\"knowledge\"\t.\n",
        "\n",
        "local:knowledge_graph\ta\trdf:Class\t;\n",
        "\trdfs:label\t\"knowledge graph\"\t.\n",
        "\n",
        "local:graph\ta\trdf:Class\t;\n",
        "\trdfs:label\t\"graph\"\t.\n",
        "\n",
        "local:temporal\ta\trdf:Class\t;\n",
        "\trdfs:label\t\"temporal\"\t.\n",
        "\n",
        "local:represent\ta\trdf:Class\t;\n",
        "\trdfs:label\t\"represent\"\t.\n",
        "\n",
        "local:evolution_of_knowledge\ta\trdf:Class\t;\n",
        "\trdfs:label\t\"evolution of knowledge\"\t.\n",
        "\n",
        "local:evolution\ta\trdf:Class\t;\n",
        "\trdfs:label\t\"evolution\"\t.\n",
        "\n",
        "local:link\ta\trdf:Class\t;\n",
        "\trdfs:label\t\"link\"\t.\n",
        "\n",
        "local:computational_ontology\ta\trdf:Class\t;\n",
        "\trdfs:label\t\"computational ontologies\"\t.\n",
        "\n",
        "local:ontology\ta\trdf:Class\t;\n",
        "\trdfs:label\t\"ontologies\"\t.\n",
        "\n",
        "local:computational\ta\trdf:Class\t;\n",
        "\trdfs:label\t\"computational\"\t.\n",
        "\n",
        "local:may\ta\trdf:Class\t;\n",
        "\trdfs:label\t\"may\"\t.\n",
        "\n",
        "local:belong\ta\trdf:Class\t;\n",
        "\trdfs:label\t\"belong\"\t.\n",
        "\n",
        "local:field_of_semantic_web\ta\trdf:Class\t;\n",
        "\trdfs:label\t\"field of semantic web\"\t.\n",
        "\n",
        "local:field\ta\trdf:Class\t;\n",
        "\trdfs:label\t\"field\"\t.\n",
        "\n",
        "local:semantic_web\ta\trdf:Class\t;\n",
        "\trdfs:label\t\"semantic web\"\t.\n",
        "\n",
        "local:web\ta\trdf:Class\t;\n",
        "\trdfs:label\t\"web\"\t.\n",
        "\n",
        "local:semantic\ta\trdf:Class\t;\n",
        "\trdfs:label\t\"semantic\"\t.\n",
        "\n",
        "#### Mapped Relations ####\n",
        "\n",
        "cso:ontology\trdfs:label\t\"ontology\"\t.\n",
        "local:ontology\towl:sameAs\tcso:ontology\t.\n",
        "cso:semantic_web\trdfs:label\t\"semantic web\"\t.\n",
        "local:semantic_web\towl:sameAs\tcso:semantic_web\t.\n",
        "\n",
        "#### Relations ####\n",
        "\n",
        "local:computational_ontology\trdfs:member\tlocal:computational\t.\n",
        "local:evolution_of_knowledge\trdfs:member\tlocal:knowledge\t.\n",
        "local:field_of_semantic_web\trdfs:member\tlocal:semantic_web\t.\n",
        "local:temporal_knowledge_graph\trdfs:subClassOf\tlocal:graph\t.\n",
        "local:temporal_knowledge\trdfs:member\tlocal:temporal\t.\n",
        "local:computational_ontology\trdfs:subClassOf\tlocal:ontology\t.\n",
        "local:temporal_knowledge_graph\trdfs:subClassOf\tlocal:knowledge_graph\t.\n",
        "local:evolution_of_knowledge\trdfs:member\tlocal:evolution\t.\n",
        "local:semantic_web\trdfs:member\tlocal:semantic\t.\n",
        "local:knowledge_graph\trdfs:member\tlocal:knowledge\t.\n",
        "local:temporal_knowledge_graph\trdfs:member\tlocal:temporal_knowledge\t.\n",
        "local:field_of_semantic_web\trdfs:member\tlocal:field\t.\n",
        "local:knowledge_graph\trdfs:subClassOf\tlocal:graph\t.\n",
        "local:semantic_web\trdfs:subClassOf\tlocal:web\t.\n",
        "local:temporal_knowledge\trdfs:subClassOf\tlocal:knowledge\t.\n",
        "\"\"\", format='ttl') # Turtle format\n",
        "\n",
        "print(\"rdflib Graph loaded successfully with {} triples\".format(len(raw_kg)))"
      ]
    },
    {
      "cell_type": "markdown",
      "metadata": {
        "id": "GCcWbuz10lve"
      },
      "source": [
        "## Converting rdflib.Graph to networkx.MultiDiGraph\n",
        "\n",
        "KGs are directed graphs with the possibility of multiple paralell edges."
      ]
    },
    {
      "cell_type": "code",
      "execution_count": 4,
      "metadata": {
        "colab": {
          "base_uri": "https://localhost:8080/"
        },
        "id": "sMLh4e0B0lve",
        "outputId": "546f92aa-9823-44c2-c9d3-e5c59f51c976"
      },
      "outputs": [
        {
          "output_type": "stream",
          "name": "stdout",
          "text": [
            "networkx Graph loaded successfully with length 51\n"
          ]
        }
      ],
      "source": [
        "kg = rdflib_to_networkx_multidigraph(raw_kg)\n",
        "\n",
        "print(\"networkx Graph loaded successfully with length {}\".format(len(kg)))"
      ]
    },
    {
      "cell_type": "markdown",
      "metadata": {
        "id": "AwN1uU4O0lvi"
      },
      "source": [
        "# General Network Metrics\n",
        "\n",
        "Network size and density"
      ]
    },
    {
      "cell_type": "code",
      "execution_count": 5,
      "metadata": {
        "colab": {
          "base_uri": "https://localhost:8080/"
        },
        "id": "kL7LdPA00lvi",
        "outputId": "6a8da25b-6667-43ed-cdba-1a76c3e9f6f3"
      },
      "outputs": [
        {
          "output_type": "stream",
          "name": "stdout",
          "text": [
            "NETWORK SIZE\n",
            "============\n",
            "The network has 51 nodes and 75 edges\n",
            "\n",
            "NETWORK DENSITY\n",
            "============\n",
            "The network density is 0.029411764705882353\n",
            "\n"
          ]
        }
      ],
      "source": [
        "# Network size\n",
        "print(f\"NETWORK SIZE\")\n",
        "print(\"============\")\n",
        "print(\"The network has {} nodes and {} edges\".format(kg.number_of_nodes(), kg.number_of_edges()))\n",
        "print()\n",
        "\n",
        "# Density\n",
        "print(f\"NETWORK DENSITY\")\n",
        "print(\"============\")\n",
        "print(\"The network density is {}\".format(nx.density(kg)))\n",
        "print()"
      ]
    },
    {
      "cell_type": "markdown",
      "metadata": {
        "id": "h_jhjb0h14dD"
      },
      "source": [
        "# Scale-free Networks\n",
        "\n",
        "In-degree distribution -- Is it Poisson's or Power-law alike?"
      ]
    },
    {
      "cell_type": "code",
      "execution_count": 6,
      "metadata": {
        "colab": {
          "base_uri": "https://localhost:8080/",
          "height": 497
        },
        "id": "ZaqW3mdDtdhw",
        "outputId": "6fa41ee4-c3ca-4c63-ad7f-15c2c96de3f7"
      },
      "outputs": [
        {
          "output_type": "stream",
          "name": "stderr",
          "text": [
            "WARNING:matplotlib.legend:No artists with labels found to put in legend.  Note that artists whose label start with an underscore are ignored when legend() is called with no argument.\n"
          ]
        },
        {
          "output_type": "execute_result",
          "data": {
            "text/plain": [
              "Text(0, 0.5, 'Frequency')"
            ]
          },
          "metadata": {},
          "execution_count": 6
        },
        {
          "output_type": "display_data",
          "data": {
            "text/plain": [
              "<Figure size 640x480 with 1 Axes>"
            ],
            "image/png": "[encoded data removed]"
          },
          "metadata": {}
        }
      ],
      "source": [
        "plt.rcParams.update({'font.size': 14})\n",
        "#plt.figure(figsize=(12, 8))\n",
        "\n",
        "degree_freq = degree_histogram_directed(kg, in_degree=True)\n",
        "degrees = range(len(degree_freq))\n",
        "plt.loglog(degrees, degree_freq)\n",
        "plt.legend(loc=\"upper right\")\n",
        "plt.xlabel('In-degree')\n",
        "plt.ylabel('Frequency')"
      ]
    },
    {
      "cell_type": "markdown",
      "source": [
        "Out-degree distribution -- Is it Poisson's or Power-law alike?"
      ],
      "metadata": {
        "id": "r5Woy9S81mRm"
      }
    },
    {
      "cell_type": "code",
      "source": [
        "plt.rcParams.update({'font.size': 14})\n",
        "#plt.figure(figsize=(12, 8))\n",
        "\n",
        "\n",
        "degree_freq = degree_histogram_directed(kg, out_degree=True)\n",
        "degrees = range(len(degree_freq))\n",
        "plt.loglog(degrees, degree_freq)\n",
        "plt.legend(loc=\"upper right\")\n",
        "plt.xlabel('Out-degree')\n",
        "plt.ylabel('Frequency')"
      ],
      "metadata": {
        "colab": {
          "base_uri": "https://localhost:8080/",
          "height": 497
        },
        "id": "05l7EpSC1qaW",
        "outputId": "ecdb6da9-6ec3-484a-b0ac-5b48d0def353"
      },
      "execution_count": 7,
      "outputs": [
        {
          "output_type": "stream",
          "name": "stderr",
          "text": [
            "WARNING:matplotlib.legend:No artists with labels found to put in legend.  Note that artists whose label start with an underscore are ignored when legend() is called with no argument.\n"
          ]
        },
        {
          "output_type": "execute_result",
          "data": {
            "text/plain": [
              "Text(0, 0.5, 'Frequency')"
            ]
          },
          "metadata": {},
          "execution_count": 7
        },
        {
          "output_type": "display_data",
          "data": {
            "text/plain": [
              "<Figure size 640x480 with 1 Axes>"
            ],
            "image/png": "[encoded data removed]"
          },
          "metadata": {}
        }
      ]
    },
    {
      "cell_type": "markdown",
      "metadata": {
        "id": "Jt67rQ0D2Ovc"
      },
      "source": [
        "Are there HUBS available?"
      ]
    },
    {
      "cell_type": "code",
      "execution_count": 8,
      "metadata": {
        "colab": {
          "base_uri": "https://localhost:8080/"
        },
        "id": "1hgAoW6dt5RI",
        "outputId": "8305fa93-a4bb-48ab-d67c-a1da709ca27d"
      },
      "outputs": [
        {
          "output_type": "stream",
          "name": "stdout",
          "text": [
            "Network Hubs:\n",
            "[(rdflib.term.URIRef('http://local/local.owl#knowledge_graph'), 0.059750730268886595), (rdflib.term.URIRef('http://local/local.owl#temporal_knowledge_graph'), 0.0573628914028062), (rdflib.term.URIRef('http://local/local.owl#evolution_of_knowledge'), 0.05694198130698345), (rdflib.term.URIRef('http://local/local.owl#temporal_knowledge'), 0.05694198130698345), (rdflib.term.URIRef('http://local/local.owl#semantic_web'), 0.05383510551222542), (rdflib.term.URIRef('http://local/local.owl#field_of_semantic_web'), 0.05093399515166182), (rdflib.term.URIRef('http://local/local.owl#computational_ontology'), 0.05093399515166181), (rdflib.term.URIRef('http://local/local.owl#ontology'), 0.04844003429109034), (rdflib.term.URIRef('http://local/local.owl#semantic'), 0.046178904376648955), (rdflib.term.URIRef('http://local/local.owl#may'), 0.046178904376648955), (rdflib.term.URIRef('http://local/local.owl#field'), 0.046178904376648955), (rdflib.term.URIRef('http://local/local.owl#knowledge'), 0.046178904376648955), (rdflib.term.URIRef('http://local/local.owl#belong'), 0.046178904376648955), (rdflib.term.URIRef('http://local/local.owl#link'), 0.046178904376648955), (rdflib.term.URIRef('http://local/local.owl#computational'), 0.046178904376648955), (rdflib.term.URIRef('http://local/local.owl#graph'), 0.046178904376648955), (rdflib.term.URIRef('http://local/local.owl#temporal'), 0.046178904376648955), (rdflib.term.URIRef('http://local/local.owl#web'), 0.046178904376648955), (rdflib.term.URIRef('http://local/local.owl#evolution'), 0.046178904376648955), (rdflib.term.URIRef('http://local/local.owl#represent'), 0.046178904376648955), (rdflib.term.URIRef('http://local/local.owl#s1'), 0.003979646313447739), (rdflib.term.URIRef('http://local/local.owl#s0'), 0.0037747521119900498), (rdflib.term.URIRef('https://cso.kmi.open.ac.uk/topics/semantic_web'), 0.0025129661715204673), (rdflib.term.URIRef('http://local/local.owl#s2'), 0.0004450684909551288), (rdflib.term.URIRef('https://cso.kmi.open.ac.uk/topics/ontology'), 6.514184066800988e-19), (rdflib.term.Literal('knowledge graph'), -0.0), (rdflib.term.URIRef('http://www.w3.org/1999/02/22-rdf-syntax-ns#Class'), -0.0), (rdflib.term.Literal('ontologies'), -0.0), (rdflib.term.Literal('computational ontologies'), -0.0), (rdflib.term.Literal('may'), -0.0), (rdflib.term.Literal('evolution of knowledge'), -0.0), (rdflib.term.URIRef('http://www.w3.org/1999/02/22-rdf-syntax-ns#Statement'), -0.0), (rdflib.term.Literal('knowledge graphs may be linked to computational ontologies'), -0.0), (rdflib.term.Literal('computational'), -0.0), (rdflib.term.Literal('semantic web'), -0.0), (rdflib.term.Literal('graph'), -0.0), (rdflib.term.Literal('field of semantic web'), -0.0), (rdflib.term.Literal('web'), -0.0), (rdflib.term.Literal('evolution'), -0.0), (rdflib.term.Literal('temporal knowledge graph'), -0.0), (rdflib.term.Literal('temporal knowledge graphs represent the evolution of knowledge'), -0.0), (rdflib.term.Literal('belong'), -0.0), (rdflib.term.Literal('temporal'), -0.0), (rdflib.term.Literal('semantic'), -0.0), (rdflib.term.Literal('knowledge'), -0.0), (rdflib.term.Literal('field'), -0.0), (rdflib.term.Literal('represent'), -0.0), (rdflib.term.Literal('link'), -0.0), (rdflib.term.Literal('knowledge graphs belong to the field of semantic web'), -0.0), (rdflib.term.Literal('temporal knowledge'), -0.0), (rdflib.term.Literal('ontology'), -0.0)]\n",
            "The mean is 0.019607843137254898, with stdev 0.024411996878192437\n",
            "The greatest hub is http://local/local.owl#knowledge_graph, with value 0.059750730268886595\n",
            "\n",
            "Network Authorities:\n",
            "[(rdflib.term.URIRef('http://www.w3.org/1999/02/22-rdf-syntax-ns#Class'), 0.3343199188041068), (rdflib.term.URIRef('http://local/local.owl#knowledge'), 0.058678121880541334), (rdflib.term.URIRef('http://local/local.owl#graph'), 0.039577386593815954), (rdflib.term.URIRef('http://local/local.owl#knowledge_graph'), 0.022005742087787293), (rdflib.term.Literal('knowledge graph'), 0.020192166524776914), (rdflib.term.Literal('temporal knowledge graph'), 0.019385220069039016), (rdflib.term.URIRef('http://local/local.owl#temporal_knowledge'), 0.019385220069039005), (rdflib.term.URIRef('http://local/local.owl#evolution'), 0.019242977677882207), (rdflib.term.URIRef('http://local/local.owl#temporal'), 0.0192429776778822), (rdflib.term.Literal('temporal knowledge'), 0.0192429776778822), (rdflib.term.Literal('evolution of knowledge'), 0.01924297767788218), (rdflib.term.Literal('semantic web'), 0.019042271812713465), (rdflib.term.URIRef('http://local/local.owl#web'), 0.018193039825453658), (rdflib.term.URIRef('http://local/local.owl#semantic'), 0.018193039825453634), (rdflib.term.URIRef('https://cso.kmi.open.ac.uk/topics/semantic_web'), 0.018193039825453634), (rdflib.term.URIRef('http://local/local.owl#field'), 0.017212638360172155), (rdflib.term.URIRef('http://local/local.owl#semantic_web'), 0.017212638360172137), (rdflib.term.URIRef('http://local/local.owl#ontology'), 0.017212638360172124), (rdflib.term.URIRef('http://local/local.owl#computational'), 0.017212638360172124), (rdflib.term.Literal('computational ontologies'), 0.017212638360172113), (rdflib.term.Literal('field of semantic web'), 0.017212638360172113), (rdflib.term.Literal('ontologies'), 0.016369829029201394), (rdflib.term.URIRef('https://cso.kmi.open.ac.uk/topics/ontology'), 0.016369829029201376), (rdflib.term.Literal('field'), 0.01560570260662728), (rdflib.term.Literal('belong'), 0.015605702606627274), (rdflib.term.Literal('may'), 0.015605702606627265), (rdflib.term.Literal('computational'), 0.015605702606627265), (rdflib.term.Literal('graph'), 0.015605702606627263), (rdflib.term.Literal('web'), 0.015605702606627258), (rdflib.term.Literal('temporal'), 0.015605702606627258), (rdflib.term.Literal('semantic'), 0.015605702606627258), (rdflib.term.Literal('knowledge'), 0.015605702606627258), (rdflib.term.Literal('link'), 0.015605702606627258), (rdflib.term.Literal('evolution'), 0.015605702606627256), (rdflib.term.Literal('represent'), 0.015605702606627256), (rdflib.term.URIRef('http://www.w3.org/1999/02/22-rdf-syntax-ns#Statement'), 0.002770928499871704), (rdflib.term.URIRef('http://local/local.owl#may'), 0.0013448819907176089), (rdflib.term.URIRef('http://local/local.owl#link'), 0.0013448819907176015), (rdflib.term.URIRef('http://local/local.owl#computational_ontology'), 0.0013448819907175976), (rdflib.term.Literal('knowledge graphs may be linked to computational ontologies'), 0.0013448819907175941), (rdflib.term.Literal('knowledge graphs belong to the field of semantic web'), 0.0012756400280306882), (rdflib.term.URIRef('http://local/local.owl#field_of_semantic_web'), 0.0012756400280306826), (rdflib.term.URIRef('http://local/local.owl#belong'), 0.0012756400280306635), (rdflib.term.URIRef('http://local/local.owl#represent'), 0.00015040648112342833), (rdflib.term.Literal('temporal knowledge graphs represent the evolution of knowledge'), 0.000150406481123403), (rdflib.term.URIRef('http://local/local.owl#temporal_knowledge_graph'), 0.00015040648112340236), (rdflib.term.URIRef('http://local/local.owl#evolution_of_knowledge'), 0.00015040648112339528), (rdflib.term.URIRef('http://local/local.owl#s0'), 1.3870238424187359e-17), (rdflib.term.Literal('ontology'), 4.936193134785352e-18), (rdflib.term.URIRef('http://local/local.owl#s1'), -1.8288837884294444e-17), (rdflib.term.URIRef('http://local/local.owl#s2'), -3.599969290514374e-17)]\n",
            "The mean is 0.019607843137254905, with stdev 0.04624017213410323\n",
            "The greatest authority is http://www.w3.org/1999/02/22-rdf-syntax-ns#Class, with value 0.3343199188041068\n",
            "\n"
          ]
        }
      ],
      "source": [
        "h, a = nx.hits(kg)\n",
        "\n",
        "print(f\"Network Hubs:\")\n",
        "print(sorted(h.items(), key=lambda x:x[1], reverse=True)) # Hubs - estimates the node value based on outgoing links.\n",
        "print(\"The mean is {}, with stdev {}\".format(mean(h.values()), statistics.stdev(h.values())))\n",
        "print(\"The greatest hub is {}, with value {}\".format(max(h, key=h.get), max(h.values())))\n",
        "print(\"\")\n",
        "print(f\"Network Authorities:\")\n",
        "print(sorted(a.items(), key=lambda x:x[1], reverse=True)) # Authorities - estimates the node value based on the incoming links\n",
        "print(\"The mean is {}, with stdev {}\".format(mean(a.values()), statistics.stdev(a.values())))\n",
        "print(\"The greatest authority is {}, with value {}\".format(max(a, key=a.get), max(a.values())))\n",
        "print(\"\")"
      ]
    },
    {
      "cell_type": "markdown",
      "metadata": {
        "id": "wfb3wybU-TBF"
      },
      "source": [
        "# Communities\n",
        "\n",
        "Check for communities using the Clauset-Newman-Moore Algorithm (greedy modularity - applicable to directed graphs)"
      ]
    },
    {
      "cell_type": "code",
      "execution_count": 9,
      "metadata": {
        "colab": {
          "base_uri": "https://localhost:8080/"
        },
        "id": "QaPL8gS1OabB",
        "outputId": "0123bac1-aa4f-486a-986b-dd1ccdcc5649"
      },
      "outputs": [
        {
          "output_type": "stream",
          "name": "stdout",
          "text": [
            "Network -- Found 6 communities.\n",
            "Community 0 has 11 nodes.\n",
            "Community 1 has 10 nodes.\n",
            "Community 2 has 9 nodes.\n",
            "Community 3 has 8 nodes.\n",
            "Community 4 has 7 nodes.\n",
            "Community 5 has 6 nodes.\n"
          ]
        }
      ],
      "source": [
        "comms = nx.community.greedy_modularity_communities(kg)\n",
        "\n",
        "print(f'Network -- Found {len(comms)} communities.')\n",
        "idx = 0\n",
        "for i in comms:\n",
        "    print(f'Community {idx} has {len(i)} nodes.')\n",
        "    #print(i)\n",
        "    idx = idx + 1"
      ]
    },
    {
      "cell_type": "markdown",
      "metadata": {
        "id": "vUaOSCfHSMmK"
      },
      "source": [
        "# Small-world networks\n",
        "\n",
        "Does it have a low average shortest path?"
      ]
    },
    {
      "cell_type": "code",
      "execution_count": 10,
      "metadata": {
        "id": "Lk91rdGL0pXS",
        "colab": {
          "base_uri": "https://localhost:8080/"
        },
        "outputId": "205b5b9e-0ad2-4038-8fa2-679ad2da1e22"
      },
      "outputs": [
        {
          "output_type": "stream",
          "name": "stdout",
          "text": [
            "Network is NOT strongly connected!\n"
          ]
        }
      ],
      "source": [
        "if nx.is_strongly_connected(kg):\n",
        "    print(f'Network -- Average shortest path length: {nx.average_shortest_path_length(kg)}')\n",
        "else:\n",
        "    print(f'Network is NOT strongly connected!')"
      ]
    },
    {
      "cell_type": "markdown",
      "metadata": {
        "id": "nylJObqDHHPz"
      },
      "source": [
        "Does it have a high clustering coefficient?"
      ]
    },
    {
      "cell_type": "code",
      "execution_count": 11,
      "metadata": {
        "id": "Lr87qau31I26",
        "colab": {
          "base_uri": "https://localhost:8080/"
        },
        "outputId": "b1f2e4eb-2f1a-4cbd-c7d2-2f5d5ef6c22b"
      },
      "outputs": [
        {
          "output_type": "stream",
          "name": "stdout",
          "text": [
            "Network -- Clustering coefficient: 0.06538650547938472\n"
          ]
        }
      ],
      "source": [
        "# create weighted graph from M, as method is not implemented for MultiDiGraphs\n",
        "DG = nx.DiGraph()\n",
        "for u,v in kg.edges():\n",
        "    if DG.has_edge(u,v):\n",
        "        DG[u][v]['weight'] += 1\n",
        "    else:\n",
        "        DG.add_edge(u, v, weight=1)\n",
        "\n",
        "ccs = nx.clustering(DG,weight='weight').values()\n",
        "\n",
        "print(f\"Network -- Clustering coefficient: {sum(ccs)/len(ccs)}\")"
      ]
    },
    {
      "cell_type": "markdown",
      "metadata": {
        "id": "Ze7XM-sVPgLx"
      },
      "source": [
        "# Some Centrality Measurements"
      ]
    },
    {
      "cell_type": "code",
      "execution_count": 12,
      "metadata": {
        "id": "QxEuHysEp9c_",
        "colab": {
          "base_uri": "https://localhost:8080/",
          "height": 1000
        },
        "outputId": "51805c37-2c69-42b3-b8d7-d286547448b4"
      },
      "outputs": [
        {
          "output_type": "stream",
          "name": "stdout",
          "text": [
            "NW DEGREE CENTRALITY\n",
            "=================\n",
            "The mean degree centrality is 0.05882352941176474, with stdev 0.06045319044760266\n",
            "The maximum node is http://www.w3.org/1999/02/22-rdf-syntax-ns#Class, with value 0.4\n",
            "The minimum node is knowledge graph, with value 0.02\n",
            "(0.4, 0.14, 0.12, 0.1, 0.08, 0.06, 0.04, 0.02) (1, 1, 3, 7, 2, 11, 3, 23)\n"
          ]
        },
        {
          "output_type": "display_data",
          "data": {
            "text/plain": [
              "<Figure size 640x480 with 1 Axes>"
            ],
            "image/png": "[encoded data removed]"
          },
          "metadata": {}
        },
        {
          "output_type": "stream",
          "name": "stdout",
          "text": [
            "\n",
            "NW PAGERANK\n",
            "======================\n",
            "The mean network pagerank is 0.0196078431372549, with stdev 0.015356888824715616\n",
            "The maximum node is http://www.w3.org/1999/02/22-rdf-syntax-ns#Class, with value 0.12461727430772873\n",
            "The minimum node is http://local/local.owl#s2, with value 0.0129561392923949\n",
            "(0.12461727430772873, 0.029056969901307857, 0.027846265503664844, 0.023637078864826647, 0.023002045524630813, 0.02132559550541383, 0.01986541192517872, 0.019831717269953992, 0.019798534239265482, 0.019691935469420906, 0.019631439001339557, 0.01957132650133407, 0.01939864616198377, 0.01924266421275766, 0.01919696982319141, 0.017517735923641954, 0.017114932721585357, 0.01625703200084176, 0.016177392727189335, 0.016099401752576282, 0.01570637048341854, 0.015533142040230447, 0.015158785362087786, 0.014791677683805638, 0.0129561392923949) (1, 1, 1, 1, 1, 1, 1, 2, 1, 1, 2, 1, 2, 2, 1, 2, 1, 2, 5, 3, 3, 2, 7, 4, 3)\n"
          ]
        },
        {
          "output_type": "display_data",
          "data": {
            "text/plain": [
              "<Figure size 640x480 with 1 Axes>"
            ],
            "image/png": "[encoded data removed]"
          },
          "metadata": {}
        },
        {
          "output_type": "stream",
          "name": "stdout",
          "text": [
            "\n",
            "NW BETWEENNESS CENTRALITY\n",
            "======================\n",
            "The mean betwenness centrality is 0.0008483393357342937, with stdev 0.0014101076287557543\n",
            "The maximum node is http://local/local.owl#knowledge_graph, with value 0.005544217687074831\n",
            "The minimum node is knowledge graph, with value 0.0\n",
            "(0.005544217687074831, 0.004897959183673469, 0.0042176870748299325, 0.00380952380952381, 0.0029591836734693877, 0.002857142857142857, 0.0024489795918367346, 0.0021768707482993197, 0.0020408163265306124, 0.0012244897959183673, 0.0008163265306122449, 0.0005442176870748299, 0.0005102040816326531, 0.0) (1, 1, 1, 1, 1, 2, 1, 1, 1, 4, 3, 2, 2, 30)\n"
          ]
        },
        {
          "output_type": "display_data",
          "data": {
            "text/plain": [
              "<Figure size 640x480 with 1 Axes>"
            ],
            "image/png": "[encoded data removed]"
          },
          "metadata": {}
        },
        {
          "output_type": "stream",
          "name": "stdout",
          "text": [
            "\n"
          ]
        }
      ],
      "source": [
        "# Degree centrality -- mean and stdev\n",
        "dc = nx.degree_centrality(kg)\n",
        "degrees = []\n",
        "for k,v in dc.items():\n",
        "    degrees.append(v)\n",
        "\n",
        "print(f\"NW DEGREE CENTRALITY\")\n",
        "print(\"=================\")\n",
        "print(\"The mean degree centrality is {}, with stdev {}\".format(mean(degrees), statistics.stdev(degrees)))\n",
        "print(\"The maximum node is {}, with value {}\".format(max(dc, key=dc.get), max(dc.values())))\n",
        "print(\"The minimum node is {}, with value {}\".format(min(dc, key=dc.get), min(dc.values())))\n",
        "histogram(dc)\n",
        "print()\n",
        "\n",
        "# PageRank -- mean and stdev\n",
        "pc = nx.pagerank(kg)\n",
        "degrees = []\n",
        "for k,v in pc.items():\n",
        "    degrees.append(v)\n",
        "\n",
        "print(f\"NW PAGERANK\")\n",
        "print(\"======================\")\n",
        "print(\"The mean network pagerank is {}, with stdev {}\".format(mean(degrees), statistics.stdev(degrees)))\n",
        "print(\"The maximum node is {}, with value {}\".format(max(pc, key=pc.get), max(pc.values())))\n",
        "print(\"The minimum node is {}, with value {}\".format(min(pc, key=pc.get), min(pc.values())))\n",
        "histogram(pc)\n",
        "print()\n",
        "\n",
        "\n",
        "# Betweenness centrality -- mean and stdev\n",
        "bc = nx.betweenness_centrality(kg)\n",
        "degrees = []\n",
        "for k,v in bc.items():\n",
        "    degrees.append(v)\n",
        "\n",
        "print(f\"NW BETWEENNESS CENTRALITY\")\n",
        "print(\"======================\")\n",
        "print(\"The mean betwenness centrality is {}, with stdev {}\".format(mean(degrees), statistics.stdev(degrees)))\n",
        "print(\"The maximum node is {}, with value {}\".format(max(bc, key=bc.get), max(bc.values())))\n",
        "print(\"The minimum node is {}, with value {}\".format(min(bc, key=bc.get), min(bc.values())))\n",
        "histogram(bc)\n",
        "print()"
      ]
    }
  ],
  "metadata": {
    "colab": {
      "provenance": []
    },
    "kernelspec": {
      "display_name": "Python 3",
      "language": "python",
      "name": "python3"
    },
    "language_info": {
      "codemirror_mode": {
        "name": "ipython",
        "version": 3
      },
      "file_extension": ".py",
      "mimetype": "text/x-python",
      "name": "python",
      "nbconvert_exporter": "python",
      "pygments_lexer": "ipython3",
      "version": "3.6.7"
    }
  },
  "nbformat": 4,
  "nbformat_minor": 0
}